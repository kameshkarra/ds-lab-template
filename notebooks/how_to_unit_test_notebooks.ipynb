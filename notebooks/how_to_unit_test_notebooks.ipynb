{
 "cells": [
  {
   "cell_type": "code",
   "execution_count": null,
   "id": "2866fe11-5503-4135-b7c1-1cb578f9dec4",
   "metadata": {
    "tags": []
   },
   "outputs": [],
   "source": [
    "def square(x: int) -> int:\n",
    "    return x * x"
   ]
  },
  {
   "cell_type": "code",
   "execution_count": null,
   "id": "3e48dc09-1384-4eb5-a461-b3210e2c1ebb",
   "metadata": {},
   "outputs": [],
   "source": [
    "assert square(2) == 4"
   ]
  },
  {
   "cell_type": "code",
   "execution_count": null,
   "id": "f818fbec-357a-4117-bc0d-fc9a76da5e02",
   "metadata": {},
   "outputs": [],
   "source": []
  }
 ],
 "metadata": {
  "kernelspec": {
   "display_name": "Python 3",
   "language": "python",
   "name": "python3"
  },
  "language_info": {
   "codemirror_mode": {
    "name": "ipython",
    "version": 3
   },
   "file_extension": ".py",
   "mimetype": "text/x-python",
   "name": "python",
   "nbconvert_exporter": "python",
   "pygments_lexer": "ipython3",
   "version": "3.9.5"
  }
 },
 "nbformat": 4,
 "nbformat_minor": 5
}
