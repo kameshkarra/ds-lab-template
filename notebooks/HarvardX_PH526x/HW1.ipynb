{
 "cells": [
  {
   "cell_type": "markdown",
   "metadata": {},
   "source": [
    "# Using Python for Research Homework: Week 1\n",
    "\n",
    "In this homework, we will use objects, functions, and randomness to find the length of documents, approximate $\\pi$, and smooth out random noise."
   ]
  },
  {
   "cell_type": "markdown",
   "metadata": {},
   "source": [
    "### Exercise 1\n",
    "\n",
    "In this five-part exercise, we will count the frequency of each letter in a given string.\n",
    "\n",
    "#### Exercise 1a\n",
    "\n",
    "- Import the `string` library.\n",
    "- Create a variable `alphabet` that consists of the lowercase and uppercase letters in the English alphabet using the `ascii_letters` data attribute of the `string` library."
   ]
  },
  {
   "cell_type": "code",
   "execution_count": null,
   "metadata": {
    "pycharm": {
     "name": "#%%\n"
    }
   },
   "outputs": [],
   "source": [
    "import math\n",
    "import random\n",
    "import statistics\n",
    "import string\n",
    "from typing import Dict, List, Tuple"
   ]
  },
  {
   "cell_type": "code",
   "execution_count": null,
   "metadata": {
    "pycharm": {
     "name": "#%%\n"
    }
   },
   "outputs": [],
   "source": [
    "alphabet = string.ascii_letters"
   ]
  },
  {
   "cell_type": "markdown",
   "metadata": {},
   "source": [
    "#### Exercise 1b\n",
    "- The lower and upper case letters of the English alphabet should stored as the string variable `alphabet`.\n",
    "- Consider the sentence 'Jim quickly realized that the beautiful gowns are expensive'. Create a dictionary `count_letters` with keys consisting of each unique letter in the sentence and values consisting of the number of times each letter is used in this sentence. Count upper case and lower case letters separately in the dictionary."
   ]
  },
  {
   "cell_type": "code",
   "execution_count": null,
   "metadata": {
    "pycharm": {
     "name": "#%%\n"
    }
   },
   "outputs": [],
   "source": [
    "sentence = \"Jim quickly realized that the beautiful gowns are expensive\"\n",
    "\n",
    "count_letters: Dict[str, int] = {}\n",
    "dir(count_letters)\n",
    "for letter in list(sentence.replace(\" \", \"\")):\n",
    "    if letter not in count_letters:\n",
    "        count_letters[letter] = 1\n",
    "    else:\n",
    "        count_letters[letter] += 1\n",
    "\n",
    "print(count_letters)"
   ]
  },
  {
   "cell_type": "markdown",
   "metadata": {},
   "source": [
    "#### Exercise 1c\n",
    "- Rewrite your code from 1b to make a function called `counter` that takes a string `input_string` and returns a dictionary of letter counts `count_letters`.\n",
    "- Use your function to call `counter(sentence)`."
   ]
  },
  {
   "cell_type": "code",
   "execution_count": null,
   "metadata": {
    "pycharm": {
     "name": "#%%\n"
    }
   },
   "outputs": [],
   "source": [
    "def counter(input_string: str) -> Dict[str, int]:\n",
    "    count_letters_acc: Dict[str, int] = {}\n",
    "    dir(count_letters_acc)\n",
    "    for a_letter in list(input_string.replace(\" \", \"\")):\n",
    "        if a_letter not in count_letters_acc:\n",
    "            count_letters_acc[a_letter] = 1\n",
    "        else:\n",
    "            count_letters_acc[a_letter] += 1\n",
    "    return count_letters_acc\n",
    "\n",
    "\n",
    "print(counter(sentence))"
   ]
  },
  {
   "cell_type": "markdown",
   "metadata": {},
   "source": [
    "#### Exercise 1d\n",
    "- Abraham Lincoln was a president during the American Civil War. His famous 1863 Gettysburg Address has been stored as `address`. Use the `counter` function from 1c to return a dictionary consisting of the count of each letter in this address and save it as `address_count`."
   ]
  },
  {
   "cell_type": "code",
   "execution_count": null,
   "metadata": {},
   "outputs": [],
   "source": [
    "address = \"\"\"Four score and seven years ago our fathers brought forth on this continent,\n",
    "a new nation,\n",
    "conceived in Liberty, and dedicated to the proposition that all men are created equal.\n",
    "Now we are engaged in a\n",
    "great civil war, testing whether that nation, or any nation so conceived and so dedicated,\n",
    "can long endure.\n",
    "We are met on a great battle-field of that war. We have come to dedicate a portion of that field,\n",
    "as a final\n",
    "resting place for those who here gave their lives that that nation might live. It is altogether\n",
    "fitting and proper\n",
    "that we should do this. But, in a larger sense, we can not dedicate -- we can not consecrate\n",
    "-- we can not hallow --\n",
    "this ground. The brave men, living and dead, who struggled here, have consecrated it, far above our\n",
    "poor power to add\n",
    "or detract. The world will little note, nor long remember what we say here, but it can never forget\n",
    "what they did here.\n",
    "It is for us the living, rather, to be dedicated here to the unfinished work which they who fought\n",
    "here have thus far so\n",
    "dead we take increased devotion to that cause for which they gave the last full measure of devotion\n",
    "-- that we here\n",
    "highly resolve that these dead shall not have died in vain -- that this nation, under God, shall\n",
    "have a new birth of\n",
    "freedom -- and that government of the people, by the people, for the people,\n",
    "shall not perish from the earth.\"\"\"\n",
    "\n",
    "print(counter(address))"
   ]
  },
  {
   "cell_type": "markdown",
   "metadata": {},
   "source": [
    "#### Exercise 1f\n",
    "- The frequency of each letter in the Gettysburg Address is already stored as `address_count`. Use this dictionary to find the most common letter in the Gettysburg address."
   ]
  },
  {
   "cell_type": "code",
   "execution_count": null,
   "metadata": {},
   "outputs": [],
   "source": [
    "count_letters = counter(address)\n",
    "max_count = 0\n",
    "max_letter = \"\"\n",
    "for letter in count_letters:\n",
    "    if count_letters[letter] > max_count:\n",
    "        max_count = count_letters[letter]\n",
    "        max_letter = letter\n",
    "print(max_letter, max_count)"
   ]
  },
  {
   "cell_type": "markdown",
   "metadata": {},
   "source": [
    "### Exercise 2\n",
    "\n",
    "Consider a circle inscribed in a square. The ratio of their areas (the ratio of the area of the circle to the area of the square) is $\\frac{\\pi}{4}$. In this six-part exercise, we will find a way to approximate this value.\n",
    "\n",
    "#### Exercise 2a\n",
    "- Using the `math` library, calculate and print the value of $\\frac{\\pi}{4}$"
   ]
  },
  {
   "cell_type": "code",
   "execution_count": null,
   "metadata": {},
   "outputs": [],
   "source": [
    "print(math.pi / 4)"
   ]
  },
  {
   "cell_type": "markdown",
   "metadata": {},
   "source": [
    "#### Exercise 2b\n",
    "- Using `random.uniform()`, create a function `rand()` that generates a single float between $-1$ and $1$.\n",
    "- Call `rand()` once. For us to be able to check your solution, we will use `random.seed()` to fix the seed value of the random number generator."
   ]
  },
  {
   "cell_type": "code",
   "execution_count": null,
   "metadata": {},
   "outputs": [],
   "source": [
    "random.seed(1)  # Fixes the see of the random number generator.\n",
    "\n",
    "\n",
    "def rand() -> float:\n",
    "    return random.uniform(-1, 1)\n",
    "\n",
    "\n",
    "rand()"
   ]
  },
  {
   "cell_type": "markdown",
   "metadata": {},
   "source": [
    "#### Exercise 2c\n",
    "- The distance between two points x and y is the square root of the sum of squared differences along each dimension of x and y. Write a function` distance(x, y)` that takes two vectors as its input and outputs the distance between them. Use your function to find the distance between $x=(0,0)$ and $y=(1,1)$."
   ]
  },
  {
   "cell_type": "code",
   "execution_count": null,
   "metadata": {
    "pycharm": {
     "name": "#%%\n"
    }
   },
   "outputs": [],
   "source": [
    "def distance(a: Tuple[float, float], b: Tuple[float, float]) -> float:\n",
    "    (x1, x2) = a\n",
    "    (y1, y2) = b\n",
    "    return math.sqrt((x1 - y1) ** 2 + (x2 - y2) ** 2)\n",
    "\n",
    "\n",
    "x = (0, 0)\n",
    "y = (1, 1)\n",
    "print(distance(x, y))"
   ]
  },
  {
   "cell_type": "markdown",
   "metadata": {},
   "source": [
    "#### Exercise 2d\n",
    "\n",
    "- Write a function `in_circle(x, origin)` that determines whether a point in a two dimensional plane falls within a unit circle surrounding a given origin.\n",
    "    - Your function should return a boolean `True` if the distance between `x` and `origin` is less than 1 and `False` otherwise.\n",
    "    - Use `distance(x, y)` as defined in 2c.\n",
    "- Use your function to determine whether the point (1,1) lies within the unit circle centered at (0,0)."
   ]
  },
  {
   "cell_type": "code",
   "execution_count": null,
   "metadata": {},
   "outputs": [],
   "source": [
    "def in_circle(a: Tuple[float, float], origin: Tuple[float, float] = (0, 0)) -> bool:\n",
    "    d = distance(a, origin)\n",
    "    return True if d <= 1 else False\n",
    "\n",
    "\n",
    "in_circle((1, 1))"
   ]
  },
  {
   "cell_type": "markdown",
   "metadata": {},
   "source": [
    "#### Exercise 2e\n",
    "\n",
    "- Create a list `inside` of `R=10000` booleans that determines whether or not a point falls within the unit circle centered at `(0,0)`. \n",
    "    - Use the `rand` function from 2b to generate `R` randomly located points.\n",
    "    - Use the function `in_circle` to test whether or not a given pint falls within the unit circle.\n",
    "- Find the proportion of points that fall within the circle by summing all `True` values in the `inside` list; then divide the answer by `R` to obtain a proportion.\n",
    "- Print your answer. This proportion is an estimate of the ratio of the two areas!"
   ]
  },
  {
   "cell_type": "code",
   "execution_count": null,
   "metadata": {},
   "outputs": [],
   "source": [
    "random.seed(1)\n",
    "\n",
    "in_count = 0\n",
    "out_count = 0\n",
    "\n",
    "for _ in range(10000):\n",
    "    a_x = rand()\n",
    "    a_y = rand()\n",
    "    if in_circle((a_x, a_y)):\n",
    "        in_count += 1\n",
    "    else:\n",
    "        out_count += 1\n",
    "\n",
    "print(in_count / 10000)"
   ]
  },
  {
   "cell_type": "markdown",
   "metadata": {},
   "source": [
    "#### Exercise 2f\n",
    "\n",
    "- Find the difference between your estimate from part 2e and `math.pi / 4`. Note: `inside` and `R` are defined as in Exercise 2e."
   ]
  },
  {
   "cell_type": "code",
   "execution_count": null,
   "metadata": {},
   "outputs": [],
   "source": [
    "(math.pi / 4) - (in_count / 10000)"
   ]
  },
  {
   "cell_type": "markdown",
   "metadata": {},
   "source": [
    "### Exercise 3\n",
    "\n",
    "A list of numbers representing measurements obtained from a system of interest can often be noisy. One way to deal with noise to smoothen the values by replacing each value with the average of the value and the values of its neighbors.\n",
    "\n",
    "#### Exercise 3a\n",
    "\n",
    "- Write a function `moving_window_average(x, n_neighbors)` that takes a list `x` and the number of neighbors `n_neighbors` on either side of a given member of the list to consider.\n",
    "- For each value in `x`, `moving_window_average(x, n_neighbors)` computes the average of the value and the values of its neighbors.\n",
    "- `moving_window_average` should return a list of averaged values that is the same length as the original list.\n",
    "- If there are not enough neighbors (for cases near the edge), substitute the original value for a neighbor for each missing neighbor.\n",
    "- Use your function to find the moving window sum of `x=[0,10,5,3,1,5]` and `n_neighbors=1`."
   ]
  },
  {
   "cell_type": "code",
   "execution_count": null,
   "metadata": {},
   "outputs": [],
   "source": [
    "def moving_window_average(a: List[float], n_neighbors: int = 1) -> List[float]:\n",
    "    array_length = len(a)\n",
    "    width = n_neighbors * 2 + 1\n",
    "    a = [a[0]] * n_neighbors + a + [a[-1]] * n_neighbors\n",
    "    x_smoothened_acc = []\n",
    "    for elem in range(array_length):\n",
    "        x_smoothened_acc.append(statistics.mean(a[elem : elem + width]))\n",
    "    # To complete the function,\n",
    "    # return a list of the mean of values from i to i+width for all values i from 0 to n-1.\n",
    "    return x_smoothened_acc\n",
    "\n",
    "\n",
    "an_array: List[float] = [0, 10, 5, 3, 1, 5]\n",
    "print(moving_window_average(an_array, 1))"
   ]
  },
  {
   "cell_type": "markdown",
   "metadata": {},
   "source": [
    "#### Exercise 3b\n",
    "- Compute and store `R=1000` random values from 0-1 as `x`.\n",
    "- Compute the moving window average for `x` for values of `n_neighbors` ranging from 1 to 9 inclusive.\n",
    "- Store `x` as well as each of these averages as consecutive lists in a list called `Y`"
   ]
  },
  {
   "cell_type": "code",
   "execution_count": null,
   "metadata": {},
   "outputs": [],
   "source": [
    "random.seed(1)  # This line fixes the value called by your function,\n",
    "# and is used for answer-checking.\n",
    "a_float_list: List[float] = []\n",
    "for _ in range(1000):\n",
    "    a_float_list.append(random.uniform(0, 1))\n",
    "Y = []\n",
    "for n in range(1, 10):\n",
    "    x_smoothened = moving_window_average(a_float_list, n)\n",
    "    Y.append(a_float_list)\n",
    "    Y.append(x_smoothened)\n",
    "    if n == 5:\n",
    "        print(x_smoothened[9])"
   ]
  },
  {
   "cell_type": "markdown",
   "metadata": {},
   "source": [
    "#### Exercise 3c\n",
    "\n",
    "- For each list in `Y`, calculate and store the range (the maximum minus the minimum) in a new list ranges.\n",
    "- Print your answer. As the window width increases, does the range of each list increase or decrease? Why do you think that is?"
   ]
  },
  {
   "cell_type": "code",
   "execution_count": null,
   "metadata": {},
   "outputs": [],
   "source": [
    "ranges = []\n",
    "for a_list in Y:\n",
    "    ranges.append(max(a_list) - min(a_list))\n",
    "print(ranges)"
   ]
  },
  {
   "cell_type": "code",
   "execution_count": null,
   "metadata": {},
   "outputs": [],
   "source": []
  }
 ],
 "metadata": {
  "kernelspec": {
   "display_name": "Python 3",
   "language": "python",
   "name": "python3"
  },
  "language_info": {
   "codemirror_mode": {
    "name": "ipython",
    "version": 3
   },
   "file_extension": ".py",
   "mimetype": "text/x-python",
   "name": "python",
   "nbconvert_exporter": "python",
   "pygments_lexer": "ipython3",
   "version": "3.11.5"
  }
 },
 "nbformat": 4,
 "nbformat_minor": 4
}
